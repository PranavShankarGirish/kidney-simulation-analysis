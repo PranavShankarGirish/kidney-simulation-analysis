{
 "cells": [
  {
   "cell_type": "code",
   "execution_count": 3,
   "id": "760512a0",
   "metadata": {},
   "outputs": [],
   "source": [
    "import pandas as pd\n",
    "import numpy as np\n",
    "kap=pd.read_csv(\"kap_score.csv\")\n",
    "score=kap['kap_score'].to_numpy()"
   ]
  },
  {
   "cell_type": "code",
   "execution_count": null,
   "id": "657c7276",
   "metadata": {},
   "outputs": [],
   "source": []
  },
  {
   "cell_type": "code",
   "execution_count": 4,
   "id": "2939ad03",
   "metadata": {},
   "outputs": [
    {
     "data": {
      "text/plain": [
       "array([[  1. ,   1.5,   2. ,   2.5,   3. ,   3.5,   4. ,   4.5,   5. ,\n",
       "          5.5,   6. ,   6.5,   7. ,   7.5,   8. ,   8.5,   9. ,   9.5,\n",
       "         10. ,  10.5,  11. ,  11.5,  12. ,  12.5,  13. ,  13.5,  14. ,\n",
       "         14.5,  15. ,  15.5,  16. ,  16.5,  17. ,  17.5,  18. ,  18.5,\n",
       "         19. ,  19.5,  20. ,  20.5,  21. ,  21.5,  22. ,  22.5,  23. ,\n",
       "         23.5,  24. ,  24.5,  25. ,  25.5,  26. ,  26.5,  27. ,  27.5,\n",
       "         28. ,  28.5,  29. ,  29.5,  30. ,  30.5,  31. ,  31.5,  32. ,\n",
       "         32.5,  33. ,  33.5,  34. ,  34.5,  35. ,  35.5,  36. ,  36.5,\n",
       "         37. ,  37.5,  38. ,  38.5,  39. ,  39.5,  40. ,  40.5,  41. ,\n",
       "         42. ,  42.5,  43. ,  43.5,  44. ,  45. ,  45.5,  46. ,  47. ,\n",
       "         48. ,  48.5,  51. ,  52.5,  53. ,  54. ,  55. ,  56. ,  57. ,\n",
       "         58. ,  58.5,  59. ,  60. ,  62. ,  63. ,  64. ,  65.5,  73. ],\n",
       "       [325. ,   7. , 298. ,  19. , 305. ,  28. , 310. ,  50. , 309. ,\n",
       "         61. , 278. ,  62. , 251. ,  35. , 223. ,  36. , 214. ,  43. ,\n",
       "        196. ,  31. , 165. ,  31. , 137. ,  32. , 119. ,  23. , 127. ,\n",
       "         20. ,  90. ,  13. ,  90. ,  16. ,  64. ,  18. ,  63. ,  11. ,\n",
       "         55. ,  11. ,  44. ,   9. ,  50. ,  11. ,  35. ,   6. ,  43. ,\n",
       "         11. ,  33. ,   3. ,  33. ,   8. ,  27. ,   6. ,  24. ,   6. ,\n",
       "         21. ,   2. ,  15. ,   1. ,  22. ,   1. ,  14. ,   8. ,  22. ,\n",
       "          2. ,   9. ,   3. ,   6. ,   1. ,   7. ,   2. ,  10. ,   1. ,\n",
       "          9. ,   1. ,   6. ,   3. ,   4. ,   1. ,   4. ,   3. ,   5. ,\n",
       "          3. ,   1. ,   5. ,   4. ,   6. ,   3. ,   1. ,   4. ,   1. ,\n",
       "          1. ,   1. ,   2. ,   1. ,   3. ,   1. ,   1. ,   1. ,   2. ,\n",
       "          1. ,   1. ,   1. ,   1. ,   1. ,   1. ,   1. ,   1. ,   1. ]])"
      ]
     },
     "execution_count": 4,
     "metadata": {},
     "output_type": "execute_result"
    }
   ],
   "source": [
    "scores=np.c_[np.unique(kap, return_counts=1)]\n",
    "scores=scores.T\n",
    "scores\n"
   ]
  },
  {
   "cell_type": "code",
   "execution_count": 5,
   "id": "fca6e7c8",
   "metadata": {},
   "outputs": [],
   "source": [
    "import matplotlib.pyplot as plt"
   ]
  },
  {
   "cell_type": "code",
   "execution_count": 6,
   "id": "d3781ce9",
   "metadata": {},
   "outputs": [],
   "source": [
    "import numpy as np\n",
    "import pandas as pd\n",
    "import seaborn as sns\n",
    "from fitter import Fitter, get_common_distributions, get_distributions"
   ]
  },
  {
   "cell_type": "code",
   "execution_count": 7,
   "id": "9b995f77",
   "metadata": {},
   "outputs": [
    {
     "name": "stderr",
     "output_type": "stream",
     "text": [
      "Fitting 6 distributions: 100%|██████████| 6/6 [00:00<00:00,  9.23it/s]\n"
     ]
    },
    {
     "data": {
      "text/html": [
       "<div>\n",
       "<style scoped>\n",
       "    .dataframe tbody tr th:only-of-type {\n",
       "        vertical-align: middle;\n",
       "    }\n",
       "\n",
       "    .dataframe tbody tr th {\n",
       "        vertical-align: top;\n",
       "    }\n",
       "\n",
       "    .dataframe thead th {\n",
       "        text-align: right;\n",
       "    }\n",
       "</style>\n",
       "<table border=\"1\" class=\"dataframe\">\n",
       "  <thead>\n",
       "    <tr style=\"text-align: right;\">\n",
       "      <th></th>\n",
       "      <th>sumsquare_error</th>\n",
       "      <th>aic</th>\n",
       "      <th>bic</th>\n",
       "      <th>kl_div</th>\n",
       "      <th>ks_statistic</th>\n",
       "      <th>ks_pvalue</th>\n",
       "    </tr>\n",
       "  </thead>\n",
       "  <tbody>\n",
       "    <tr>\n",
       "      <th>beta</th>\n",
       "      <td>0.017142</td>\n",
       "      <td>1205.541688</td>\n",
       "      <td>-59466.726171</td>\n",
       "      <td>inf</td>\n",
       "      <td>0.084056</td>\n",
       "      <td>1.240391e-29</td>\n",
       "    </tr>\n",
       "    <tr>\n",
       "      <th>lognorm</th>\n",
       "      <td>0.017994</td>\n",
       "      <td>1197.640857</td>\n",
       "      <td>-59244.921167</td>\n",
       "      <td>inf</td>\n",
       "      <td>0.052186</td>\n",
       "      <td>1.117450e-11</td>\n",
       "    </tr>\n",
       "    <tr>\n",
       "      <th>burr</th>\n",
       "      <td>0.019873</td>\n",
       "      <td>1361.399135</td>\n",
       "      <td>-58764.750617</td>\n",
       "      <td>inf</td>\n",
       "      <td>0.139863</td>\n",
       "      <td>1.723060e-81</td>\n",
       "    </tr>\n",
       "    <tr>\n",
       "      <th>rayleigh</th>\n",
       "      <td>0.028060</td>\n",
       "      <td>1893.468256</td>\n",
       "      <td>-57143.691399</td>\n",
       "      <td>inf</td>\n",
       "      <td>0.150574</td>\n",
       "      <td>1.914595e-94</td>\n",
       "    </tr>\n",
       "    <tr>\n",
       "      <th>gamma</th>\n",
       "      <td>0.032379</td>\n",
       "      <td>1242.443829</td>\n",
       "      <td>-56455.443400</td>\n",
       "      <td>inf</td>\n",
       "      <td>0.210949</td>\n",
       "      <td>7.415532e-186</td>\n",
       "    </tr>\n",
       "  </tbody>\n",
       "</table>\n",
       "</div>"
      ],
      "text/plain": [
       "          sumsquare_error          aic           bic  kl_div  ks_statistic  \\\n",
       "beta             0.017142  1205.541688 -59466.726171     inf      0.084056   \n",
       "lognorm          0.017994  1197.640857 -59244.921167     inf      0.052186   \n",
       "burr             0.019873  1361.399135 -58764.750617     inf      0.139863   \n",
       "rayleigh         0.028060  1893.468256 -57143.691399     inf      0.150574   \n",
       "gamma            0.032379  1242.443829 -56455.443400     inf      0.210949   \n",
       "\n",
       "              ks_pvalue  \n",
       "beta       1.240391e-29  \n",
       "lognorm    1.117450e-11  \n",
       "burr       1.723060e-81  \n",
       "rayleigh   1.914595e-94  \n",
       "gamma     7.415532e-186  "
      ]
     },
     "execution_count": 7,
     "metadata": {},
     "output_type": "execute_result"
    },
    {
     "data": {
      "image/png": "[encoded data removed]",
      "text/plain": [
       "<Figure size 432x288 with 1 Axes>"
      ]
     },
     "metadata": {
      "needs_background": "light"
     },
     "output_type": "display_data"
    }
   ],
   "source": [
    "f = Fitter(score,\n",
    "           distributions=['gamma',\n",
    "                          'lognorm',\n",
    "                          \"beta\",\n",
    "                          \"burr\",\n",
    "                          \"norm\",\n",
    "                          \"rayleigh\"])\n",
    "f.fit()\n",
    "f.summary()"
   ]
  },
  {
   "cell_type": "code",
   "execution_count": 8,
   "id": "71e092d0",
   "metadata": {},
   "outputs": [
    {
     "data": {
      "text/plain": [
       "(0.8913760845287697, 33.9947834962461, 0.9999999999999999, 371.65182264096006)"
      ]
     },
     "execution_count": 8,
     "metadata": {},
     "output_type": "execute_result"
    }
   ],
   "source": [
    "import scipy.stats\n",
    "scipy.stats.beta.fit(score)"
   ]
  },
  {
   "cell_type": "code",
   "execution_count": 9,
   "id": "cb44b3e3",
   "metadata": {},
   "outputs": [
    {
     "data": {
      "text/plain": [
       "0.0"
      ]
     },
     "execution_count": 9,
     "metadata": {},
     "output_type": "execute_result"
    }
   ],
   "source": [
    "rv=scipy.stats.beta(2.3824842269108624, 53477623160435.664)\n",
    "rv.pdf(1)"
   ]
  },
  {
   "cell_type": "code",
   "execution_count": 10,
   "id": "7815904b",
   "metadata": {},
   "outputs": [],
   "source": [
    "from scipy.stats import beta,burr\n",
    "a, b = 1., 2.\n",
    "x = beta.rvs(a, b, size=1000)"
   ]
  },
  {
   "cell_type": "code",
   "execution_count": 11,
   "id": "b426d760",
   "metadata": {},
   "outputs": [
    {
     "data": {
      "text/plain": [
       "array([1.56663036e-01, 4.22535927e-01, 1.42978773e-01, 5.47963317e-01,\n",
       "       1.89825165e-01, 5.16563155e-01, 4.41312981e-01, 5.38500889e-01,\n",
       "       5.76184889e-01, 9.68438770e-01, 6.04212828e-02, 2.39467302e-01,\n",
       "       4.79497357e-01, 2.04807525e-02, 2.10811621e-01, 8.42275837e-01,\n",
       "       5.06628372e-01, 1.23249736e-01, 6.41442513e-01, 3.79622913e-01,\n",
       "       7.80069889e-02, 7.74136369e-01, 2.90576238e-01, 6.00039078e-01,\n",
       "       5.73700780e-01, 2.41366869e-01, 7.50327151e-01, 6.11027501e-01,\n",
       "       3.71785433e-01, 7.37389585e-02, 6.94730467e-01, 2.46522087e-01,\n",
       "       1.39652749e-01, 1.52324126e-01, 4.93705085e-01, 1.60827810e-01,\n",
       "       3.80512108e-02, 7.01785706e-01, 3.47286963e-01, 3.94083411e-01,\n",
       "       5.05505406e-01, 3.42029099e-01, 9.19935923e-01, 5.43973592e-01,\n",
       "       6.34227930e-02, 1.05163077e-02, 6.86133927e-01, 2.88095849e-01,\n",
       "       4.31901288e-01, 8.33232825e-01, 2.42742831e-01, 5.04745825e-02,\n",
       "       5.67042871e-01, 1.94482056e-01, 4.66903055e-01, 3.63513474e-01,\n",
       "       7.58985036e-02, 5.15322348e-02, 5.46393381e-01, 1.98277884e-01,\n",
       "       1.55067362e-01, 7.69541523e-01, 4.75517607e-01, 2.24572228e-01,\n",
       "       2.47388338e-01, 7.78996044e-01, 3.65713805e-01, 6.66518836e-01,\n",
       "       9.08429403e-02, 1.63691577e-01, 3.07256054e-01, 6.43728090e-01,\n",
       "       4.33539319e-01, 3.14075159e-01, 8.14594809e-01, 3.76003517e-01,\n",
       "       3.49399844e-01, 2.27302840e-02, 1.57954105e-01, 1.05535457e-01,\n",
       "       7.19269085e-01, 1.24063466e-02, 6.62071180e-01, 1.51166665e-01,\n",
       "       5.73205934e-01, 5.51466627e-01, 9.08821354e-01, 5.24331072e-01,\n",
       "       6.73588904e-01, 5.70753376e-02, 4.26535509e-01, 2.23541712e-01,\n",
       "       6.04175494e-01, 1.07747104e-01, 2.81438882e-01, 3.19580930e-01,\n",
       "       6.09583748e-02, 2.24211529e-01, 2.66201658e-01, 1.13627897e-01,\n",
       "       2.37484029e-01, 7.94482493e-02, 1.78777118e-01, 2.00956204e-01,\n",
       "       1.63940452e-01, 6.20486217e-02, 5.30827348e-01, 3.48979800e-01,\n",
       "       1.39742651e-01, 1.42439550e-01, 3.56217595e-01, 1.29788086e-01,\n",
       "       4.74884229e-01, 3.40658331e-01, 1.01225367e-01, 3.77607342e-01,\n",
       "       4.77464305e-01, 2.04997120e-01, 4.15164356e-01, 1.97850554e-02,\n",
       "       3.74279119e-02, 2.44314659e-01, 1.71351893e-01, 3.85159418e-01,\n",
       "       3.66444013e-01, 2.25071270e-02, 6.37836943e-01, 2.31180454e-02,\n",
       "       4.29652554e-02, 2.41898701e-01, 8.12711896e-02, 9.80566657e-01,\n",
       "       5.90587965e-01, 2.01342780e-01, 5.73870014e-01, 5.69406866e-01,\n",
       "       4.75496355e-01, 2.65558736e-02, 2.22770232e-02, 2.03445559e-01,\n",
       "       3.44342309e-01, 6.51025507e-01, 7.66159915e-01, 5.66148656e-02,\n",
       "       7.78795486e-01, 3.85960761e-01, 1.57078683e-01, 3.70144924e-01,\n",
       "       1.89925367e-01, 6.43624680e-01, 5.04795035e-01, 2.94721087e-01,\n",
       "       6.18977153e-01, 2.02292456e-01, 4.21391016e-01, 4.96877749e-01,\n",
       "       2.93570135e-01, 1.24090088e-01, 8.90213413e-02, 2.83545924e-02,\n",
       "       1.66807801e-01, 2.31749196e-01, 3.69017038e-01, 4.46393567e-02,\n",
       "       5.11440389e-01, 4.66268069e-02, 4.96101151e-01, 1.15477606e-01,\n",
       "       5.24836035e-01, 9.22780221e-02, 3.54726871e-01, 6.14908463e-01,\n",
       "       7.15833256e-01, 1.15922571e-01, 2.65902937e-01, 4.72685996e-01,\n",
       "       3.96634369e-01, 4.23662482e-02, 1.50631980e-01, 5.49584170e-01,\n",
       "       1.86093274e-01, 4.77388980e-01, 1.03615083e-01, 5.25002426e-01,\n",
       "       2.69746558e-01, 6.04585124e-01, 5.47488985e-01, 2.33987811e-01,\n",
       "       2.88395386e-01, 1.89340345e-01, 1.30942622e-01, 4.73665693e-01,\n",
       "       5.39456310e-01, 3.59541905e-01, 5.77570969e-01, 6.76481969e-02,\n",
       "       1.81098573e-01, 7.01616417e-01, 1.93044448e-01, 3.45674936e-01,\n",
       "       6.32403443e-01, 2.17968701e-01, 8.65783785e-01, 3.62514426e-01,\n",
       "       4.84158020e-01, 1.97765590e-01, 4.06537403e-01, 4.14808738e-01,\n",
       "       5.91408720e-01, 9.43317701e-02, 3.08840357e-01, 1.53667468e-01,\n",
       "       2.24860781e-01, 3.64344460e-01, 9.51718786e-02, 3.17128875e-01,\n",
       "       3.61236088e-01, 1.40672483e-01, 2.92510834e-01, 4.66579951e-01,\n",
       "       5.46246228e-01, 3.01176156e-01, 1.81839073e-01, 6.38018520e-01,\n",
       "       4.57511045e-01, 2.65048037e-01, 1.27511051e-01, 2.72899854e-02,\n",
       "       8.11291693e-01, 9.06006697e-02, 1.20370233e-01, 1.33118456e-01,\n",
       "       2.13278097e-01, 8.19003254e-01, 1.52398751e-01, 4.67382399e-01,\n",
       "       2.30256088e-02, 6.20178770e-01, 5.80895669e-02, 4.96995048e-02,\n",
       "       5.37759392e-01, 6.26673858e-02, 3.09988044e-02, 4.75405259e-01,\n",
       "       9.65547183e-02, 4.99510655e-02, 2.97051500e-01, 3.20233443e-01,\n",
       "       1.79389417e-01, 4.25046479e-01, 3.15160555e-01, 5.75249765e-02,\n",
       "       3.03262268e-01, 3.72639374e-01, 2.10242419e-01, 6.42968819e-01,\n",
       "       4.03753066e-01, 1.70456284e-01, 1.70711237e-01, 2.96251773e-02,\n",
       "       5.32284938e-01, 2.31983822e-01, 5.01785442e-01, 8.10583084e-02,\n",
       "       8.36846955e-01, 6.67572528e-01, 2.09203293e-01, 3.71126139e-01,\n",
       "       6.35469078e-01, 6.83406913e-01, 6.49916096e-02, 4.11808615e-01,\n",
       "       4.10630847e-01, 6.84755765e-01, 7.90619527e-01, 1.42570324e-01,\n",
       "       2.20184524e-01, 8.67032601e-01, 4.07431498e-02, 3.74783881e-02,\n",
       "       1.23241314e-01, 6.56666379e-01, 6.81199041e-01, 2.11408386e-01,\n",
       "       2.11994661e-01, 4.25151072e-01, 1.59791119e-01, 4.10149226e-01,\n",
       "       9.10014682e-02, 3.23624954e-01, 4.11641107e-01, 2.45387242e-01,\n",
       "       4.69269715e-01, 2.24653247e-01, 1.45842774e-01, 2.29683917e-01,\n",
       "       3.08720127e-01, 2.94632840e-01, 5.78062714e-01, 4.91811389e-01,\n",
       "       5.71164634e-01, 2.35469892e-01, 3.19232380e-01, 1.10848787e-01,\n",
       "       5.65593904e-01, 8.23582811e-01, 4.45926472e-01, 8.92453618e-01,\n",
       "       3.32128578e-01, 4.99304062e-02, 6.71099722e-01, 4.86843909e-01,\n",
       "       7.42659322e-03, 3.91388342e-01, 2.48240072e-01, 2.36989016e-02,\n",
       "       8.92459441e-02, 4.61436797e-01, 4.67013165e-02, 1.65784580e-01,\n",
       "       4.88104122e-01, 5.25101543e-01, 1.15835832e-01, 6.78996736e-02,\n",
       "       2.06080590e-01, 4.40136968e-01, 6.40986933e-01, 5.97085456e-01,\n",
       "       7.99233021e-01, 4.44421751e-01, 7.83266058e-02, 5.31001624e-01,\n",
       "       2.39722787e-01, 8.13751676e-01, 5.97404807e-01, 3.33268684e-01,\n",
       "       6.31304665e-01, 4.05754062e-01, 4.76241040e-02, 5.05406983e-01,\n",
       "       3.21038422e-01, 9.30361932e-01, 2.07935728e-01, 2.04122081e-01,\n",
       "       1.17493056e-01, 8.01433555e-02, 8.09964297e-01, 1.06139141e-01,\n",
       "       5.98790153e-01, 4.14316062e-01, 1.06725240e-01, 6.48200687e-01,\n",
       "       3.72535306e-01, 9.04132031e-01, 2.37132061e-01, 4.84379468e-01,\n",
       "       7.63853618e-01, 4.20245146e-01, 1.92129553e-01, 3.06859341e-01,\n",
       "       8.17830291e-02, 1.05272625e-01, 5.37104198e-01, 4.57054342e-01,\n",
       "       6.36319053e-01, 5.25632827e-01, 1.11446540e-01, 5.34959544e-01,\n",
       "       6.73082455e-01, 5.25425916e-02, 6.48576763e-01, 3.69854384e-01,\n",
       "       1.77156513e-01, 9.54398981e-02, 6.46905053e-02, 5.34085367e-01,\n",
       "       3.56011101e-01, 5.12376125e-01, 6.80134204e-02, 6.30674580e-01,\n",
       "       4.01763307e-01, 1.36942722e-01, 6.04853730e-01, 7.80441637e-01,\n",
       "       2.35981515e-01, 4.72057090e-02, 6.19950750e-02, 2.43993857e-01,\n",
       "       7.77246575e-02, 3.95428945e-02, 4.82938344e-01, 3.63802301e-01,\n",
       "       1.21807221e-01, 9.68370968e-02, 8.19838562e-01, 2.29128296e-01,\n",
       "       9.00710538e-01, 9.31109184e-02, 5.81834813e-02, 2.95826647e-02,\n",
       "       9.29490331e-01, 1.28177180e-01, 3.06062179e-02, 9.82979851e-02,\n",
       "       2.13194946e-01, 4.83012786e-02, 2.41910641e-02, 2.11531135e-01,\n",
       "       2.70180305e-01, 7.12449024e-03, 1.88989518e-01, 2.87260021e-02,\n",
       "       2.71059703e-01, 2.12718997e-01, 5.92956136e-01, 3.79879586e-01,\n",
       "       1.06359559e-01, 2.37284939e-01, 2.90747682e-01, 3.19046723e-01,\n",
       "       2.83033108e-01, 2.65523825e-01, 4.07163049e-01, 4.85716371e-01,\n",
       "       3.04120714e-02, 1.89150301e-01, 5.71189338e-01, 9.26370983e-02,\n",
       "       1.69922381e-01, 6.83575619e-01, 8.49201851e-01, 2.66860716e-01,\n",
       "       2.24042424e-01, 2.08139446e-01, 6.37492217e-01, 2.62562891e-02,\n",
       "       4.97356677e-01, 2.67393140e-01, 1.01954081e-01, 1.66246556e-01,\n",
       "       2.81047198e-01, 1.99972052e-01, 3.52082302e-01, 5.96494399e-02,\n",
       "       4.89070426e-01, 2.65711848e-01, 6.02586755e-01, 8.90397823e-03,\n",
       "       5.10754953e-01, 4.12636258e-02, 2.98536061e-01, 1.14276439e-01,\n",
       "       3.68336710e-01, 1.12060284e-01, 6.02744414e-02, 4.13998815e-01,\n",
       "       2.76426252e-01, 2.82413171e-01, 6.95769787e-01, 4.60300449e-01,\n",
       "       4.16929227e-01, 1.09322411e-01, 2.97039352e-01, 8.47766268e-01,\n",
       "       1.07701774e-01, 4.58227851e-01, 6.13037960e-01, 4.59930328e-01,\n",
       "       6.72226511e-01, 2.62984810e-01, 4.94315294e-01, 8.12467902e-01,\n",
       "       7.25010408e-02, 3.22795424e-01, 2.97761140e-01, 2.23058990e-01,\n",
       "       5.16554309e-01, 5.13339737e-01, 1.99942430e-01, 1.17099591e-01,\n",
       "       2.79482831e-01, 6.81319846e-04, 2.88228151e-01, 1.76855378e-02,\n",
       "       4.40996990e-01, 9.32928699e-02, 1.97910738e-01, 2.21969651e-01,\n",
       "       9.33685207e-01, 8.01435166e-02, 4.16580771e-01, 1.41195993e-01,\n",
       "       1.41673842e-01, 3.70990729e-01, 5.04774732e-02, 6.06063515e-02,\n",
       "       5.94642883e-01, 2.22783049e-01, 5.18731648e-01, 2.93045897e-01,\n",
       "       1.48846536e-01, 2.14700602e-01, 6.15952150e-01, 8.68234947e-01,\n",
       "       1.54943691e-01, 3.05761698e-01, 5.36577630e-02, 6.72586403e-01,\n",
       "       3.68676179e-01, 4.17984962e-01, 5.60688350e-01, 3.11236668e-01,\n",
       "       7.23804429e-01, 4.53299640e-01, 1.58450288e-01, 4.01775056e-01,\n",
       "       1.51240512e-01, 1.90251851e-01, 3.09709680e-01, 8.30854829e-01,\n",
       "       2.02711932e-01, 5.93662373e-01, 1.13288741e-01, 3.62923176e-02,\n",
       "       5.37250599e-01, 3.24250699e-01, 1.25809961e-01, 3.60931820e-01,\n",
       "       2.63454471e-01, 4.11100050e-01, 8.72996045e-01, 2.09933272e-01,\n",
       "       7.75009702e-01, 3.20400847e-01, 2.26183432e-01, 7.95285092e-02,\n",
       "       6.21020941e-02, 8.11900371e-01, 9.79602854e-02, 6.97857951e-02,\n",
       "       7.96052045e-02, 5.90100794e-01, 5.47242525e-01, 1.78855658e-01,\n",
       "       1.46264482e-01, 5.57381373e-01, 8.60381596e-01, 2.04674557e-01,\n",
       "       7.58611965e-01, 5.10612311e-01, 7.44224756e-01, 5.14573541e-01,\n",
       "       2.14374824e-01, 4.59925185e-01, 9.25521601e-02, 2.98466186e-01,\n",
       "       6.36073087e-02, 8.81146067e-02, 7.42023926e-01, 4.72907390e-01,\n",
       "       2.46632219e-01, 2.35754692e-01, 6.80609325e-01, 6.89516383e-01,\n",
       "       6.32316175e-01, 5.98280649e-01, 1.30683025e-01, 4.06051981e-02,\n",
       "       3.87352992e-01, 1.28464662e-01, 1.53483779e-01, 5.59831840e-01,\n",
       "       9.97391740e-02, 1.21319357e-01, 5.38864357e-01, 4.09958509e-01,\n",
       "       4.73193586e-01, 2.90222556e-02, 4.71025137e-01, 3.76091422e-01,\n",
       "       5.63816156e-01, 5.37500304e-01, 5.56965076e-01, 2.90872137e-01,\n",
       "       7.38376635e-01, 4.07481918e-01, 1.01918075e-01, 4.77374133e-01,\n",
       "       6.59850837e-02, 3.56989769e-01, 2.24385725e-01, 3.02612655e-01,\n",
       "       5.68928909e-01, 3.09405568e-01, 6.45753644e-01, 1.73954265e-02,\n",
       "       1.72423996e-01, 2.37579325e-01, 3.94022488e-02, 5.91866611e-01,\n",
       "       7.36504986e-01, 5.71752810e-01, 1.71751540e-01, 1.50116737e-01,\n",
       "       7.28038702e-01, 4.31710999e-01, 9.35851443e-01, 7.27894357e-01,\n",
       "       7.95609519e-01, 3.41236917e-01, 6.30004707e-01, 1.53542918e-02,\n",
       "       3.45465937e-01, 2.53472773e-02, 5.19851165e-01, 2.53802040e-01,\n",
       "       1.81329698e-01, 4.83198005e-01, 1.18653441e-01, 1.00421314e-01,\n",
       "       4.12137315e-02, 4.50775294e-01, 8.15837722e-02, 3.81656731e-01,\n",
       "       2.60734553e-01, 3.93675882e-01, 6.02333336e-01, 1.49027332e-01,\n",
       "       6.01717051e-01, 1.01322703e-01, 2.87166989e-01, 3.38411871e-01,\n",
       "       1.89607048e-01, 1.37863355e-01, 6.39384530e-01, 6.89523922e-01,\n",
       "       3.78813379e-01, 8.35486592e-02, 4.58439317e-01, 1.34514634e-01,\n",
       "       3.79935759e-01, 3.48156938e-01, 9.53165773e-02, 3.69581800e-01,\n",
       "       2.70487446e-01, 6.99735048e-01, 3.57060498e-01, 3.80870825e-01,\n",
       "       5.11526135e-01, 1.40589114e-01, 6.80247058e-01, 1.29402276e-01,\n",
       "       3.02187004e-01, 2.53951719e-01, 1.12178253e-01, 7.79270632e-01,\n",
       "       2.81576440e-01, 1.63273787e-01, 5.09927925e-01, 6.52613166e-01,\n",
       "       9.09447211e-02, 1.62525306e-01, 2.08909115e-01, 1.52437080e-02,\n",
       "       4.25662465e-03, 1.54782856e-01, 3.87579785e-01, 1.61921544e-01,\n",
       "       9.14237912e-02, 3.51225837e-01, 6.76197666e-01, 6.27158678e-01,\n",
       "       2.24866334e-01, 5.59306002e-01, 3.27570988e-01, 1.17633547e-01,\n",
       "       6.69074425e-01, 6.94735509e-01, 6.08927138e-02, 5.48009803e-01,\n",
       "       8.71775489e-02, 5.13438867e-01, 7.38332795e-01, 3.51054657e-01,\n",
       "       2.41734875e-01, 5.36755301e-01, 3.73312618e-02, 7.36187066e-02,\n",
       "       4.02437980e-01, 2.84394652e-02, 1.31778578e-01, 4.60246806e-01,\n",
       "       4.80970100e-01, 1.79877431e-01, 4.71140431e-02, 1.18328142e-01,\n",
       "       2.98193777e-01, 4.69688569e-01, 1.86899578e-02, 1.97466706e-01,\n",
       "       5.71219601e-02, 6.29948020e-01, 1.84616350e-01, 3.97685804e-01,\n",
       "       1.50139625e-01, 3.35392971e-01, 1.27584624e-01, 8.48563754e-01,\n",
       "       5.13487136e-01, 3.30367629e-01, 8.07926279e-01, 4.66003486e-01,\n",
       "       3.03799024e-01, 7.43824142e-02, 3.76800367e-02, 9.02449710e-02,\n",
       "       1.21058498e-01, 2.28871351e-01, 7.03495919e-01, 4.16204267e-03,\n",
       "       2.49950347e-01, 5.05847326e-01, 1.67584903e-01, 3.51362007e-01,\n",
       "       2.59500249e-01, 2.09995084e-01, 4.46701301e-02, 9.67006002e-01,\n",
       "       9.19695096e-02, 1.52886000e-01, 3.00631594e-01, 4.19681540e-02,\n",
       "       1.81064849e-01, 3.41430255e-01, 3.83704279e-01, 4.30582971e-01,\n",
       "       3.81969827e-01, 3.24354791e-01, 9.10604060e-02, 1.76128757e-01,\n",
       "       2.18429616e-01, 2.38953278e-01, 1.90120299e-01, 6.68197077e-01,\n",
       "       7.45024844e-03, 2.86879160e-01, 6.12927535e-01, 6.85387350e-01,\n",
       "       1.99770326e-01, 5.98233217e-01, 1.20695321e-01, 5.68540552e-02,\n",
       "       2.90866452e-01, 6.01468779e-01, 8.37953620e-01, 3.51289217e-01,\n",
       "       4.47121353e-04, 2.38034744e-02, 6.05698815e-01, 3.41846663e-01,\n",
       "       6.29966203e-02, 1.12059390e-01, 8.24726460e-02, 2.92311486e-01,\n",
       "       1.48845566e-01, 3.17368157e-01, 4.04626905e-01, 2.47119410e-01,\n",
       "       3.74405300e-01, 8.74718489e-01, 6.94176566e-01, 2.65466523e-01,\n",
       "       4.31801326e-01, 4.47136041e-01, 6.78939123e-01, 5.82724352e-03,\n",
       "       6.77786355e-02, 1.12586042e-01, 2.71290448e-01, 3.27547940e-01,\n",
       "       4.62012674e-01, 4.89584732e-01, 4.26226532e-01, 1.43247681e-01,\n",
       "       5.88791960e-01, 1.75346298e-01, 3.18961744e-01, 6.98423147e-01,\n",
       "       4.48426851e-01, 4.01955014e-02, 2.21243107e-01, 3.95698907e-01,\n",
       "       4.03795786e-01, 1.58415028e-01, 1.23731637e-01, 3.92657257e-01,\n",
       "       5.29127255e-01, 9.46481372e-01, 6.97463897e-01, 5.10828563e-01,\n",
       "       3.19976965e-01, 5.55222623e-02, 6.83740550e-02, 5.94722115e-01,\n",
       "       1.38270299e-01, 7.17028124e-01, 2.30258775e-01, 1.13387024e-01,\n",
       "       3.36531850e-01, 4.17740969e-01, 2.56060954e-01, 3.19149887e-01,\n",
       "       1.62194900e-01, 2.39200312e-01, 1.18634009e-01, 1.47614813e-01,\n",
       "       3.31901915e-01, 1.60111448e-01, 3.20300395e-01, 6.48519553e-01,\n",
       "       8.05119559e-01, 6.96961595e-01, 3.10002328e-01, 2.22720008e-01,\n",
       "       5.46045003e-01, 1.37862387e-02, 3.04212604e-01, 6.99687755e-01,\n",
       "       3.20186620e-01, 3.80603704e-01, 1.17438512e-01, 3.90612023e-01,\n",
       "       2.83220740e-01, 1.19901716e-01, 6.39365351e-01, 5.65476809e-01,\n",
       "       5.04998703e-01, 4.68614558e-01, 1.96465032e-02, 6.19564876e-01,\n",
       "       4.87653398e-01, 3.83363742e-02, 1.26127461e-02, 7.02224771e-02,\n",
       "       1.31584881e-02, 6.82600442e-01, 4.54171803e-01, 3.63909971e-01,\n",
       "       3.15722883e-01, 2.31138260e-01, 7.18091561e-01, 3.07997930e-01,\n",
       "       1.28760559e-01, 9.29131489e-02, 1.06144476e-01, 6.74037383e-01,\n",
       "       4.94537839e-02, 7.86643811e-01, 6.21352358e-01, 1.60409843e-01,\n",
       "       1.95332651e-01, 1.13526232e-01, 9.67261443e-03, 1.77717153e-01,\n",
       "       1.22368494e-01, 4.06944015e-01, 1.42035253e-01, 6.54343460e-01,\n",
       "       3.38829500e-02, 1.63344862e-01, 8.38513783e-01, 1.94241192e-02,\n",
       "       2.79306642e-01, 5.31793594e-01, 3.85910450e-01, 9.54996237e-02,\n",
       "       6.76574123e-02, 5.44936033e-01, 3.62654956e-01, 7.45417631e-02,\n",
       "       5.55072303e-01, 7.50937055e-01, 2.18498964e-01, 8.67852735e-02,\n",
       "       7.13499792e-02, 3.02031950e-02, 1.37340435e-01, 4.80556895e-01,\n",
       "       4.31257513e-02, 2.06937241e-01, 5.11937190e-01, 1.20016828e-01,\n",
       "       2.03063652e-01, 1.32200404e-01, 3.23570709e-01, 1.23345682e-01,\n",
       "       3.11769759e-02, 1.52175089e-01, 9.37667600e-03, 9.02979913e-02,\n",
       "       1.69333387e-01, 2.69105263e-01, 7.55236279e-01, 3.89097897e-01,\n",
       "       6.89996461e-01, 6.09876954e-01, 4.85632240e-01, 5.45384407e-02,\n",
       "       4.17352592e-02, 4.59940935e-02, 1.08582747e-01, 6.23847716e-01,\n",
       "       5.13230482e-01, 2.49480358e-02, 4.67962184e-02, 3.62078489e-01,\n",
       "       4.98124460e-01, 6.84124742e-01, 7.14252027e-01, 1.96026039e-01,\n",
       "       3.53783905e-02, 8.23207010e-02, 1.70219818e-01, 1.75487302e-01,\n",
       "       1.52103937e-01, 6.56804208e-01, 5.19340654e-01, 3.70071204e-01,\n",
       "       5.25778610e-01, 8.40651185e-01, 1.06029103e-01, 3.77898066e-02,\n",
       "       2.38579440e-02, 1.17239677e-01, 3.71285295e-01, 4.05977408e-01,\n",
       "       2.23046388e-01, 7.10227911e-01, 3.53909740e-01, 7.75761509e-01,\n",
       "       1.09054504e-02, 1.93732870e-01, 4.67592940e-01, 1.03465220e-01,\n",
       "       1.14229314e-02, 1.87663424e-01, 1.23934162e-01, 3.38812773e-02,\n",
       "       2.76724357e-01, 6.35792138e-01, 2.81115127e-01, 9.38410261e-01,\n",
       "       1.71637848e-01, 1.31472869e-01, 4.58267892e-01, 3.19829679e-01,\n",
       "       4.13599409e-02, 1.55932563e-02, 6.20081511e-01, 2.37977401e-01,\n",
       "       3.68842487e-01, 5.42303564e-02, 2.90816288e-01, 5.16141753e-01,\n",
       "       1.58360260e-01, 4.59252931e-01, 7.86623603e-02, 5.86176280e-02,\n",
       "       4.33922964e-01, 6.77885770e-02, 7.23476722e-01, 6.44331799e-03,\n",
       "       4.52065555e-01, 2.98295178e-01, 8.26212828e-01, 1.49764571e-01,\n",
       "       7.85857407e-02, 3.01143472e-01, 3.35460025e-02, 7.02999974e-01,\n",
       "       3.24156808e-01, 1.84798903e-01, 1.64819583e-01, 3.77563129e-01,\n",
       "       1.93154014e-01, 3.35342804e-01, 4.61122170e-01, 2.46701148e-01,\n",
       "       3.09651335e-01, 5.89420558e-01, 4.47142505e-01, 2.01299235e-01,\n",
       "       2.22487831e-02, 2.29516050e-01, 8.76504577e-01, 5.32630270e-01,\n",
       "       5.47043889e-02, 6.09728773e-03, 5.76060763e-01, 8.83009653e-01])"
      ]
     },
     "execution_count": 11,
     "metadata": {},
     "output_type": "execute_result"
    }
   ],
   "source": [
    "x"
   ]
  },
  {
   "cell_type": "code",
   "execution_count": 12,
   "id": "540fd272",
   "metadata": {},
   "outputs": [
    {
     "data": {
      "text/plain": [
       "array([ 2., 16.,  4., ...,  2.,  4., 29.])"
      ]
     },
     "execution_count": 12,
     "metadata": {},
     "output_type": "execute_result"
    }
   ],
   "source": [
    "score"
   ]
  },
  {
   "cell_type": "code",
   "execution_count": 13,
   "id": "3e154f32",
   "metadata": {},
   "outputs": [
    {
     "data": {
      "text/plain": [
       "(3.2897775775199896,\n",
       " 0.21923182504537464,\n",
       " 0.9999999999999869,\n",
       " 13.129008822460651)"
      ]
     },
     "execution_count": 13,
     "metadata": {},
     "output_type": "execute_result"
    }
   ],
   "source": [
    "burr.fit(score)"
   ]
  },
  {
   "cell_type": "code",
   "execution_count": 14,
   "id": "06ed9c65",
   "metadata": {},
   "outputs": [
    {
     "data": {
      "text/plain": [
       "(0.8913760845287697, 33.9947834962461, 0.9999999999999999, 371.65182264096006)"
      ]
     },
     "execution_count": 14,
     "metadata": {},
     "output_type": "execute_result"
    }
   ],
   "source": [
    "beta.fit(score)"
   ]
  },
  {
   "cell_type": "code",
   "execution_count": 14,
   "id": "76248708",
   "metadata": {},
   "outputs": [],
   "source": [
    "dist=beta(0.8913760845287697, 33.9947834962461)"
   ]
  },
  {
   "cell_type": "code",
   "execution_count": null,
   "id": "dd1d8bfe",
   "metadata": {},
   "outputs": [],
   "source": []
  },
  {
   "cell_type": "code",
   "execution_count": 15,
   "id": "8c92f213",
   "metadata": {},
   "outputs": [
    {
     "data": {
      "text/plain": [
       "0.34217119020851827"
      ]
     },
     "execution_count": 15,
     "metadata": {},
     "output_type": "execute_result"
    }
   ],
   "source": [
    "from scipy.stats import percentileofscore\n",
    "dist.cdf(0.01)"
   ]
  },
  {
   "cell_type": "code",
   "execution_count": 16,
   "id": "91e072de",
   "metadata": {},
   "outputs": [
    {
     "data": {
      "text/plain": [
       "(array(0.02555099), array(0.00069381), array(1.95328726), array(5.41356978))"
      ]
     },
     "execution_count": 16,
     "metadata": {},
     "output_type": "execute_result"
    }
   ],
   "source": [
    "beta.stats(0.8913760845287697, 33.9947834962461,moments='mvsk')"
   ]
  },
  {
   "cell_type": "code",
   "execution_count": 17,
   "id": "479fd5e3",
   "metadata": {},
   "outputs": [
    {
     "data": {
      "text/plain": [
       "7.388192946501759"
      ]
     },
     "execution_count": 17,
     "metadata": {},
     "output_type": "execute_result"
    }
   ],
   "source": [
    "dist.ppf(0.5)*371.65+1"
   ]
  },
  {
   "cell_type": "code",
   "execution_count": 34,
   "id": "0ec05bfd",
   "metadata": {},
   "outputs": [],
   "source": [
    "mn=10000\n",
    "a=mn-0.33*mn\n",
    "b=mn+0.33*mn\n",
    "m=mn\n",
    "alpha=2*(b+4*m-5*a)/(3*(b-a))*(1+4*(m-a)*(b-m)/((b-a)**2))\n",
    "betaa= 2*(5*b-4*m-a)/(3*(b-a))*(1+4*(m-a)*(b-m)/((b-a)**2))"
   ]
  },
  {
   "cell_type": "code",
   "execution_count": 35,
   "id": "ab26b771",
   "metadata": {},
   "outputs": [
    {
     "data": {
      "text/plain": [
       "4.0"
      ]
     },
     "execution_count": 35,
     "metadata": {},
     "output_type": "execute_result"
    }
   ],
   "source": [
    "alpha"
   ]
  },
  {
   "cell_type": "code",
   "execution_count": 32,
   "id": "1716ba16",
   "metadata": {},
   "outputs": [
    {
     "data": {
      "text/plain": [
       "4.000000000000001"
      ]
     },
     "execution_count": 32,
     "metadata": {},
     "output_type": "execute_result"
    }
   ],
   "source": []
  },
  {
   "cell_type": "code",
   "execution_count": null,
   "id": "f1f7ff97",
   "metadata": {},
   "outputs": [],
   "source": []
  }
 ],
 "metadata": {
  "kernelspec": {
   "display_name": "Python 3.9.12 ('base')",
   "language": "python",
   "name": "python3"
  },
  "language_info": {
   "codemirror_mode": {
    "name": "ipython",
    "version": 3
   },
   "file_extension": ".py",
   "mimetype": "text/x-python",
   "name": "python",
   "nbconvert_exporter": "python",
   "pygments_lexer": "ipython3",
   "version": "3.9.12"
  },
  "vscode": {
   "interpreter": {
    "hash": "a46a83bfffc0ddf55ad7e5e620b7bf302c904aa4b28a42b9f22da163882e4cde"
   }
  }
 },
 "nbformat": 4,
 "nbformat_minor": 5
}
